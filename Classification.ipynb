{
  "cells": [
    {
      "cell_type": "code",
      "execution_count": null,
      "metadata": {
        "id": "212T1AUVsG5a"
      },
      "outputs": [],
      "source": [
        "##### Importing python libraries #########\n",
        "\n",
        "import numpy as np\n",
        "import os\n",
        "import matplotlib.pyplot as plt\n",
        "import cv2\n",
        "import numpy as np\n",
        "import pandas as pd\n",
        "from PIL import Image\n",
        "from keras.layers import BatchNormalization\n",
        "from sklearn.preprocessing import LabelBinarizer\n",
        "\n",
        "import tensorflow as tf\n",
        "from tensorflow import keras\n",
        "from keras.models import Model\n",
        "from keras.models import Sequential\n",
        "from keras.layers import Input, Lambda, Activation,Conv2D,MaxPooling2D,Dense,Flatten,Dropout\n",
        "\n",
        "from keras.applications.vgg19 import VGG19\n",
        "from keras.applications.vgg19 import preprocess_input\n",
        "from keras.preprocessing import image\n",
        "from keras.preprocessing.image import ImageDataGenerator\n",
        "\n",
        "from glob import glob\n"
      ]
    },
    {
      "cell_type": "code",
      "execution_count": null,
      "metadata": {
        "id": "nIkUiZ8HsQVB"
      },
      "outputs": [],
      "source": [
        "IMAGE_SIZE = [256, 256]\n",
        "Dataset_path = \"Sample_dataset/lung_cancer/\"  # Provide the dataset path here\n",
        "random_seed = 290993\n",
        "\n",
        "categories = os.listdir(Dataset_path)"
      ]
    },
    {
      "cell_type": "code",
      "execution_count": null,
      "metadata": {
        "colab": {
          "base_uri": "https://localhost:8080/"
        },
        "id": "Ive8feLZsaaZ",
        "outputId": "7579a9bb-e1c0-4aa2-b50e-60575001ec2a"
      },
      "outputs": [
        {
          "name": "stdout",
          "output_type": "stream",
          "text": [
            "No. of images loaded =  1536 \n",
            "No. of labels loaded =  1536\n",
            "<class 'list'> <class 'list'>\n"
          ]
        }
      ],
      "source": [
        "# Initialize an empty set to store unique cancer types\n",
        "cancer_types = set()\n",
        "\n",
        "# Function to load images and corresponding labels from specified categories\n",
        "def load_images_and_labels(categories):\n",
        "    \"\"\"\n",
        "    This function loads images and their corresponding labels from the specified categories.\n",
        "\n",
        "    Args:\n",
        "    categories (list): A list of folder names representing different cancer types.\n",
        "                       Each folder contains images of the respective cancer type.\n",
        "\n",
        "    Returns:\n",
        "    img_lst (list): A list of images (as NumPy arrays) resized to 256x256.\n",
        "    labels (list): A list of corresponding labels (cancer types) for each image.\n",
        "    \"\"\"\n",
        "\n",
        "    img_lst = []   # List to store the loaded images\n",
        "    labels = []    # List to store the corresponding labels (cancer types)\n",
        "\n",
        "    # Loop through each category folder (cancer type)\n",
        "    for category in categories:\n",
        "        # Extract the cancer type from the category name (assuming format is 'cancer_type_something')\n",
        "        index = category.index('_')\n",
        "        cell = category[0:index]   # Cancer type\n",
        "        cancer_types.add(cell)     # Add the cancer type to the set\n",
        "\n",
        "        # Loop through the first 400 images in the folder\n",
        "        for image_name in os.listdir(Dataset_path + \"/\" + category)[:400]:\n",
        "            # Check if the file is a valid image with 'jpg' or 'jpeg' extension\n",
        "            file_ext = image_name.split(\".\")[-1]\n",
        "            if (file_ext.lower() == \"jpg\") or (file_ext.lower() == \"jpeg\"):\n",
        "                # Read the image using OpenCV\n",
        "                img = cv2.imread(Dataset_path + \"/\" + category + \"/\" + image_name)\n",
        "\n",
        "                # Convert the image color from BGR to RGB (as OpenCV loads images in BGR format)\n",
        "                img = cv2.cvtColor(img, cv2.COLOR_BGR2RGB)\n",
        "\n",
        "                # Convert the image to PIL format and resize it to 256x256\n",
        "                img_array = Image.fromarray(img, 'RGB')\n",
        "                resized_img = img_array.resize((256, 256))\n",
        "\n",
        "                # Append the resized image (as a NumPy array) to the image list\n",
        "                img_lst.append(np.array(resized_img))\n",
        "\n",
        "                # Append the corresponding cancer type label to the labels list\n",
        "                labels.append(cell)\n",
        "\n",
        "    # Return the loaded images and labels\n",
        "    return img_lst, labels\n",
        "\n",
        "# Load images and labels by calling the function\n",
        "images, labels = load_images_and_labels(categories)\n",
        "\n",
        "# Print the number of images and labels loaded\n",
        "print(\"No. of images loaded =\", len(images), \"\\nNo. of labels loaded =\", len(labels))\n",
        "\n",
        "# Print the data types of images and labels to verify\n",
        "print(type(images), type(labels))\n"
      ]
    },
    {
      "cell_type": "code",
      "execution_count": null,
      "metadata": {
        "colab": {
          "base_uri": "https://localhost:8080/"
        },
        "id": "XRjrVJfmsgJa",
        "outputId": "2501ccea-61eb-46f6-8731-ab67b011f3ff"
      },
      "outputs": [
        {
          "name": "stdout",
          "output_type": "stream",
          "text": [
            "List of lung_cancer categories =  ['Small', 'Adenocarcinoma', 'Large', 'Squamous'] \n",
            "\n",
            "No. of lung_cancer categories =  4\n"
          ]
        }
      ],
      "source": [
        "# Convert the set of unique cancer types into a list\n",
        "lung_cancer_types_list = list(cancer_types)\n",
        "\n",
        "# Print the list of lung cancer categories\n",
        "print(\"List of lung cancer categories =\", lung_cancer_types_list)\n",
        "\n",
        "# Print the total number of unique lung cancer categories\n",
        "print(\"\\n\\nNo. of lung cancer categories =\", len(lung_cancer_types_list))\n"
      ]
    },
    {
      "cell_type": "code",
      "execution_count": null,
      "metadata": {
        "colab": {
          "base_uri": "https://localhost:8080/"
        },
        "id": "tNbBO_cBsp91",
        "outputId": "954b162a-8658-4d8e-a84f-a20ba9e8b1a7"
      },
      "outputs": [
        {
          "name": "stdout",
          "output_type": "stream",
          "text": [
            "Images shape after normalization =  (1536, 256, 256, 3)\n"
          ]
        }
      ],
      "source": [
        "# Convert the list of images and labels into NumPy arrays for easier manipulation\n",
        "images = np.array(images)\n",
        "labels = np.array(labels)\n",
        "\n",
        "# Convert image data type to float32 for compatibility with deep learning models\n",
        "images = images.astype(np.float32)\n",
        "\n",
        "# Convert labels to one-hot encoded format using LabelBinarizer\n",
        "label_binarizer = LabelBinarizer()\n",
        "labels = label_binarizer.fit_transform(labels)\n",
        "\n",
        "# Get the number of unique classes (cancer types)\n",
        "n_classes = len(label_binarizer.classes_)\n",
        "\n",
        "# Normalize the image pixel values by dividing by 255 (scaling them between 0 and 1)\n",
        "images = images / 255\n",
        "\n",
        "# Print the shape of the images array after normalization\n",
        "print(\"Images shape after normalization =\", images.shape)\n"
      ]
    },
    {
      "cell_type": "code",
      "execution_count": null,
      "metadata": {
        "colab": {
          "base_uri": "https://localhost:8080/"
        },
        "id": "jGndLswdstzD",
        "outputId": "fe3111ef-9d3f-4181-f71b-77d62d48c906"
      },
      "outputs": [
        {
          "name": "stdout",
          "output_type": "stream",
          "text": [
            "x_train shape =  (1228, 256, 256, 3)\n",
            "y_train shape =  (1228, 4)\n",
            "\n",
            "x_test shape =  (308, 256, 256, 3)\n",
            "y_test shape =  (308, 4)\n"
          ]
        }
      ],
      "source": [
        "# Import the train_test_split function from scikit-learn to split the dataset\n",
        "from sklearn.model_selection import train_test_split\n",
        "\n",
        "# Split the dataset into training and testing sets\n",
        "# test_size=0.2 means 20% of the data will be used for testing, and 80% for training\n",
        "# random_state ensures reproducibility of the split using a specific seed value\n",
        "x_train, x_test, y_train, y_test = train_test_split(images, labels, test_size=0.2, random_state=random_seed)\n",
        "\n",
        "# Print the shapes of the training and testing data for both images and labels\n",
        "print(\"x_train shape =\", x_train.shape)  # Shape of the training images\n",
        "print(\"y_train shape =\", y_train.shape)  # Shape of the training labels\n",
        "print(\"\\nx_test shape =\", x_test.shape)  # Shape of the testing images\n",
        "print(\"y_test shape =\", y_test.shape)    # Shape of the testing labels\n"
      ]
    },
    {
      "cell_type": "code",
      "execution_count": null,
      "metadata": {
        "colab": {
          "base_uri": "https://localhost:8080/"
        },
        "id": "sNzPYezIsyNM",
        "outputId": "944d7443-f660-45c1-8bff-e05aa5055b6c"
      },
      "outputs": [
        {
          "name": "stdout",
          "output_type": "stream",
          "text": [
            "Downloading data from https://storage.googleapis.com/tensorflow/keras-applications/vgg19/vgg19_weights_tf_dim_ordering_tf_kernels_notop.h5\n",
            "80134624/80134624 [==============================] - 1s 0us/step\n"
          ]
        }
      ],
      "source": [
        "# Initialize the VGG19 model with pre-trained weights from ImageNet\n",
        "# input_shape=IMAGE_SIZE+[3] specifies the input image dimensions (IMAGE_SIZE + 3 color channels for RGB)\n",
        "# weights='imagenet' loads the pre-trained weights from the ImageNet dataset\n",
        "# include_top=False excludes the fully connected layers (top layers) to use the model as a feature extractor\n",
        "vgg = VGG19(input_shape=IMAGE_SIZE + [3], weights='imagenet', include_top=False)"
      ]
    },
    {
      "cell_type": "code",
      "execution_count": null,
      "metadata": {
        "id": "_RrQd8Qgs20y"
      },
      "outputs": [],
      "source": [
        "# Freeze all layers of the VGG19 model to prevent them from being trained\n",
        "# This is done to use the pre-trained features from the VGG19 model without updating the weights during training\n",
        "for layer in vgg.layers:\n",
        "    layer.trainable = False\n"
      ]
    },
    {
      "cell_type": "code",
      "execution_count": null,
      "metadata": {
        "colab": {
          "base_uri": "https://localhost:8080/"
        },
        "id": "m8MV_Cw6s6uY",
        "outputId": "5b6381c1-11a4-416e-d3e1-500e30945b6a"
      },
      "outputs": [
        {
          "name": "stdout",
          "output_type": "stream",
          "text": [
            "Model: \"vgg19\"\n",
            "_________________________________________________________________\n",
            " Layer (type)                Output Shape              Param #   \n",
            "=================================================================\n",
            " input_1 (InputLayer)        [(None, 256, 256, 3)]     0         \n",
            "                                                                 \n",
            " block1_conv1 (Conv2D)       (None, 256, 256, 64)      1792      \n",
            "                                                                 \n",
            " block1_conv2 (Conv2D)       (None, 256, 256, 64)      36928     \n",
            "                                                                 \n",
            " block1_pool (MaxPooling2D)  (None, 128, 128, 64)      0         \n",
            "                                                                 \n",
            " block2_conv1 (Conv2D)       (None, 128, 128, 128)     73856     \n",
            "                                                                 \n",
            " block2_conv2 (Conv2D)       (None, 128, 128, 128)     147584    \n",
            "                                                                 \n",
            " block2_pool (MaxPooling2D)  (None, 64, 64, 128)       0         \n",
            "                                                                 \n",
            " block3_conv1 (Conv2D)       (None, 64, 64, 256)       295168    \n",
            "                                                                 \n",
            " block3_conv2 (Conv2D)       (None, 64, 64, 256)       590080    \n",
            "                                                                 \n",
            " block3_conv3 (Conv2D)       (None, 64, 64, 256)       590080    \n",
            "                                                                 \n",
            " block3_conv4 (Conv2D)       (None, 64, 64, 256)       590080    \n",
            "                                                                 \n",
            " block3_pool (MaxPooling2D)  (None, 32, 32, 256)       0         \n",
            "                                                                 \n",
            " block4_conv1 (Conv2D)       (None, 32, 32, 512)       1180160   \n",
            "                                                                 \n",
            " block4_conv2 (Conv2D)       (None, 32, 32, 512)       2359808   \n",
            "                                                                 \n",
            " block4_conv3 (Conv2D)       (None, 32, 32, 512)       2359808   \n",
            "                                                                 \n",
            " block4_conv4 (Conv2D)       (None, 32, 32, 512)       2359808   \n",
            "                                                                 \n",
            " block4_pool (MaxPooling2D)  (None, 16, 16, 512)       0         \n",
            "                                                                 \n",
            " block5_conv1 (Conv2D)       (None, 16, 16, 512)       2359808   \n",
            "                                                                 \n",
            " block5_conv2 (Conv2D)       (None, 16, 16, 512)       2359808   \n",
            "                                                                 \n",
            " block5_conv3 (Conv2D)       (None, 16, 16, 512)       2359808   \n",
            "                                                                 \n",
            " block5_conv4 (Conv2D)       (None, 16, 16, 512)       2359808   \n",
            "                                                                 \n",
            " block5_pool (MaxPooling2D)  (None, 8, 8, 512)         0         \n",
            "                                                                 \n",
            "=================================================================\n",
            "Total params: 20024384 (76.39 MB)\n",
            "Trainable params: 0 (0.00 Byte)\n",
            "Non-trainable params: 20024384 (76.39 MB)\n",
            "_________________________________________________________________\n"
          ]
        }
      ],
      "source": [
        "# Display a summary of the VGG19 model architecture\n",
        "# This will print out the details of each layer in the VGG19 model, including the output shapes and number of parameters\n",
        "vgg.summary()"
      ]
    },
    {
      "cell_type": "code",
      "execution_count": null,
      "metadata": {
        "colab": {
          "background_save": true,
          "base_uri": "https://localhost:8080/"
        },
        "id": "oxsuozc0s-P-",
        "outputId": "f88ba7af-1e45-4700-a0e4-b17674585b40"
      },
      "outputs": [
        {
          "name": "stdout",
          "output_type": "stream",
          "text": [
            "39/39 [==============================] - 786s 20s/step\n"
          ]
        }
      ],
      "source": [
        "# Use the pre-trained VGG19 model as a feature extractor to generate feature maps for the training dataset\n",
        "# The model processes the training images (x_train) and extracts high-level features\n",
        "feature_extractor = vgg.predict(x_train)"
      ]
    },
    {
      "cell_type": "code",
      "execution_count": null,
      "metadata": {
        "id": "F5ONXRcatBfZ"
      },
      "outputs": [],
      "source": [
        "# Reshape the extracted features to flatten them for further processing\n",
        "# feature_extractor.shape[0] is the number of samples\n",
        "# -1 automatically calculates the appropriate number of features (flattening all dimensions except the first one)\n",
        "features = feature_extractor.reshape(feature_extractor.shape[0], -1)\n"
      ]
    },
    {
      "cell_type": "code",
      "execution_count": null,
      "metadata": {
        "id": "3e0INd-6tEq9"
      },
      "outputs": [],
      "source": [
        "# Assign the reshaped features to a new variable for use with a Support Vector Machine (SVM) model\n",
        "# x_svm will now contain the flattened features extracted from the VGG19 model, ready for classification or other tasks\n",
        "x_svm = features"
      ]
    },
    {
      "cell_type": "code",
      "execution_count": null,
      "metadata": {
        "id": "I_Xkqb1ftIdy"
      },
      "outputs": [],
      "source": [
        "# Import necessary modules from scikit-learn\n",
        "from sklearn.svm import SVC              # Import Support Vector Classification (SVC) for SVM\n",
        "from sklearn import preprocessing       # Import preprocessing utilities for data scaling\n",
        "from sklearn.multiclass import OneVsRestClassifier  # Import OneVsRestClassifier for multi-class classification\n",
        "\n",
        "# Initialize an SVM model with a linear kernel wrapped in a OneVsRestClassifier\n",
        "# OneVsRestClassifier allows the SVM model to handle multi-class classification by fitting one classifier per class\n",
        "svm_model = OneVsRestClassifier(SVC(kernel='linear'))\n"
      ]
    },
    {
      "cell_type": "code",
      "execution_count": null,
      "metadata": {
        "colab": {
          "base_uri": "https://localhost:8080/"
        },
        "id": "KWPbRrnhtMTQ",
        "outputId": "ab9f7327-e25c-4b67-e053-3c24e2383d67"
      },
      "outputs": [
        {
          "data": {
            "text/plain": [
              "OneVsRestClassifier(estimator=SVC(kernel='linear'))"
            ]
          },
          "execution_count": 16,
          "metadata": {},
          "output_type": "execute_result"
        }
      ],
      "source": [
        "# Train the SVM model using the flattened feature vectors (x_svm) and the training labels (y_train)\n",
        "# This step fits the model to the data, allowing it to learn patterns and make predictions\n",
        "svm_model.fit(x_svm, y_train)"
      ]
    },
    {
      "cell_type": "code",
      "execution_count": null,
      "metadata": {
        "id": "ZiMhtschtPY2"
      },
      "outputs": [],
      "source": [
        "# Use the trained VGG19 model to extract features from the test dataset (x_test)\n",
        "# This generates feature maps for the test images\n",
        "x_test_feature = vgg.predict(x_test)\n",
        "\n",
        "# Reshape the extracted features to flatten them for consistency with the training features\n",
        "# x_test_feature.shape[0] is the number of test samples\n",
        "# -1 automatically calculates the appropriate number of features (flattening all dimensions except the first one)\n",
        "x_test_features = x_test_feature.reshape(x_test_feature.shape[0], -1)"
      ]
    },
    {
      "cell_type": "code",
      "execution_count": null,
      "metadata": {
        "id": "SvVGpqrhtS49"
      },
      "outputs": [],
      "source": [
        "# Use the trained SVM model to make predictions on the test features (x_test_features)\n",
        "# This step generates class labels for the test data based on the learned model\n",
        "prediction_svm = svm_model.predict(x_test_features)"
      ]
    },
    {
      "cell_type": "code",
      "execution_count": null,
      "metadata": {
        "colab": {
          "base_uri": "https://localhost:8080/"
        },
        "id": "uB6XjxMEtWIz",
        "outputId": "085438e6-ef52-4252-a032-29c05b725a4b"
      },
      "outputs": [
        {
          "name": "stdout",
          "output_type": "stream",
          "text": [
            "Accuracy = 0.987012987012987\n",
            "Precision: 1.000000\n",
            "Recall: 0.987013\n",
            "F1 score: 0.993310\n",
            "[[91  0  0  0]\n",
            " [ 0 61  0  0]\n",
            " [ 0  0 88  0]\n",
            " [ 4  0  0 64]]\n"
          ]
        }
      ],
      "source": [
        "# Import metrics and functions from scikit-learn for model evaluation\n",
        "from sklearn import metrics\n",
        "from sklearn.metrics import precision_recall_curve  # For calculating precision-recall pairs\n",
        "from sklearn.metrics import accuracy_score         # For calculating accuracy\n",
        "from sklearn.metrics import precision_score        # For calculating precision\n",
        "from sklearn.metrics import recall_score           # For calculating recall\n",
        "from sklearn.metrics import f1_score               # For calculating F1 score\n",
        "from sklearn.metrics import confusion_matrix       # For calculating the confusion matrix\n",
        "from sklearn.metrics import classification_report  # For generating a detailed classification report\n",
        "\n",
        "# Calculate and print the accuracy of the SVM model on the test set\n",
        "print(\"Accuracy =\", metrics.accuracy_score(y_test, prediction_svm))\n",
        "\n",
        "# Calculate and print the weighted precision score\n",
        "# Precision is the ratio of correctly predicted positive observations to the total predicted positives\n",
        "precision = precision_score(y_test, prediction_svm, average='weighted')\n",
        "print('Precision: %f' % precision)\n",
        "\n",
        "# Calculate and print the weighted recall score\n",
        "# Recall is the ratio of correctly predicted positive observations to all observations in the actual class\n",
        "recall = recall_score(y_test, prediction_svm, average='weighted')\n",
        "print('Recall: %f' % recall)\n",
        "\n",
        "# Calculate and print the weighted F1 score\n",
        "# F1 score is the weighted average of precision and recall\n",
        "f1 = f1_score(y_test, prediction_svm, average='weighted')\n",
        "print('F1 score: %f' % f1)\n",
        "\n",
        "# Calculate and print the confusion matrix\n",
        "# The confusion matrix compares the predicted labels with the actual labels\n",
        "# Note: `.argmax(axis=1)` is used if labels are one-hot encoded\n",
        "cm = confusion_matrix(y_test.argmax(axis=1), prediction_svm.argmax(axis=1))\n",
        "print(cm)"
      ]
    },
    {
      "cell_type": "code",
      "execution_count": null,
      "metadata": {
        "colab": {
          "base_uri": "https://localhost:8080/",
          "height": 452
        },
        "id": "msSNgEFWtf7q",
        "outputId": "089a4e2a-490f-4fb7-adc4-7b830d8fdf94"
      },
      "outputs": [
        {
          "data": {
            "image/png": "[encoded data removed]",
            "text/plain": [
              "<Figure size 720x360 with 2 Axes>"
            ]
          },
          "metadata": {},
          "output_type": "display_data"
        }
      ],
      "source": [
        "# Calculate the confusion matrix and normalize it\n",
        "# The confusion matrix is converted to a float type and normalized by dividing by the sum of each row\n",
        "matrix = confusion_matrix(y_test.argmax(axis=1), prediction_svm.argmax(axis=1))\n",
        "matrix = matrix.astype('float') / matrix.sum(axis=1)[:, np.newaxis]\n",
        "\n",
        "import seaborn as sns\n",
        "import matplotlib.pyplot as plt\n",
        "\n",
        "# Set up the figure size and font scale for better readability\n",
        "plt.figure(figsize=(10, 5))\n",
        "sns.set(font_scale=1.4)\n",
        "\n",
        "# Create a heatmap of the normalized confusion matrix\n",
        "# annot=True adds the numeric values to the heatmap cells\n",
        "# annot_kws={'size':10} sets the font size of the annotations\n",
        "# cmap=plt.cm.Greens specifies the color map\n",
        "# linewidths=0.2 adds lines between cells for better separation\n",
        "sns.heatmap(matrix, annot=True, annot_kws={'size':10}, cmap=plt.cm.Greens, linewidths=0.2)\n",
        "\n",
        "# Define class names for labeling the confusion matrix\n",
        "class_names = ['Large-cell-carcinoma', 'Small-cell-carcinoma', 'Adenocarcinoma', 'Squamous-cell-carcinoma']\n",
        "tick_marks = np.arange(len(class_names))\n",
        "tick_mark2 = tick_marks + 0.5\n",
        "\n",
        "# Set the tick labels and rotation for both x and y axes\n",
        "plt.xticks(tick_marks, class_names, rotation=25)\n",
        "plt.yticks(tick_mark2, class_names, rotation=0)\n",
        "\n",
        "# Label the axes and set the title of the plot\n",
        "plt.xlabel('Predicted label')\n",
        "plt.ylabel('True label')\n",
        "plt.title('Confusion Matrix of Lung Cancer Classification')\n",
        "\n",
        "# Display the plot\n",
        "plt.show()"
      ]
    },
    {
      "cell_type": "code",
      "execution_count": null,
      "metadata": {
        "colab": {
          "base_uri": "https://localhost:8080/"
        },
        "id": "Qo8WLxcAtl-O",
        "outputId": "4e3d5eb1-7761-4a80-f51d-26513290a9ee"
      },
      "outputs": [
        {
          "name": "stdout",
          "output_type": "stream",
          "text": [
            "              precision    recall  f1-score   support\n",
            "\n",
            "           0       1.00      1.00      1.00        91\n",
            "           1       1.00      1.00      1.00        61\n",
            "           2       1.00      1.00      1.00        88\n",
            "           3       1.00      0.94      0.97        68\n",
            "\n",
            "   micro avg       1.00      0.99      0.99       308\n",
            "   macro avg       1.00      0.99      0.99       308\n",
            "weighted avg       1.00      0.99      0.99       308\n",
            " samples avg       0.99      0.99      0.99       308\n",
            "\n"
          ]
        },
        {
          "name": "stderr",
          "output_type": "stream",
          "text": [
            "/usr/local/lib/python3.7/dist-packages/sklearn/metrics/_classification.py:1308: UndefinedMetricWarning: Precision and F-score are ill-defined and being set to 0.0 in samples with no predicted labels. Use `zero_division` parameter to control this behavior.\n",
            "  _warn_prf(average, modifier, msg_start, len(result))\n"
          ]
        }
      ],
      "source": [
        "# Print a detailed classification report for the SVM model's predictions\n",
        "# The classification report includes precision, recall, F1 score, and support for each class\n",
        "print(classification_report(y_test, prediction_svm))"
      ]
    }
  ],
  "metadata": {
    "colab": {
      "provenance": []
    },
    "kernelspec": {
      "display_name": "Python 3",
      "name": "python3"
    },
    "language_info": {
      "name": "python"
    }
  },
  "nbformat": 4,
  "nbformat_minor": 0
}